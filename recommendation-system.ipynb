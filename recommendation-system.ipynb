{
 "cells": [
  {
   "cell_type": "markdown",
   "id": "4e43ad6f",
   "metadata": {},
   "source": [
    "# 📺 Netflix Recommendation System Project\n",
    "\n",
    "## **Project Overview**\n",
    "In this project, we are building a **Netflix-style movie recommendation system** using real-world data. The goal is to predict **which movies a user might like** based on their past ratings and the ratings of other users.\n",
    "\n",
    "We will focus on:\n",
    "\n",
    "1. **Data Understanding & Cleaning**  \n",
    "   - The dataset comes from the **Netflix Prize competition**, containing millions of ratings.  \n",
    "   - Data is messy: movie IDs are listed separately, ratings are in text format, and there are missing or duplicate values.  \n",
    "\n",
    "2. **Exploratory Data Analysis (EDA)**  \n",
    "   - Understand the distribution of ratings.  \n",
    "   - Find top-rated movies and active users.  \n",
    "   - Visualize sparsity of the user-movie matrix.  \n",
    "\n",
    "3. **Building the Recommendation System**  \n",
    "   - Use **Model-based Collaborative Filtering**  technique.  \n",
    "   - Implement **SVD (Singular Value Decomposition)** to handle sparse user-movie matrices.  \n",
    "   - Use the **Surprise library** for easy model training, prediction, and evaluation.  \n",
    "\n",
    "4. **Evaluation**  \n",
    "   - Evaluate the model performance using **RMSE (Root Mean Squared Error)**.  \n",
    "   - Test how well the system predicts ratings for unseen movies.  \n",
    "\n",
    "5. **Generating Recommendations**  \n",
    "   - Recommend top movies to a user they haven’t watched yet.  \n",
    "   - Optionally, compare recommendations for multiple users.  \n",
    "\n",
    "---\n",
    "\n",
    "## **Key Concepts in This Project**\n",
    "- **User-Item Matrix:** Table where rows are users, columns are movies, and cells are ratings.  \n",
    "- **Collaborative Filtering:** Recommending movies based on **similar users**.  \n",
    "- **SVD:** Reduces a large, sparse matrix into **latent factors** representing user and movie features.  \n",
    "- **Surprise Library:** Python library to simplify **building and evaluating recommendation systems**.  \n",
    "\n",
    "---\n",
    "\n",
    "## **Why This Project is Useful**\n",
    "- Real-world applications: Netflix, Amazon, Spotify, YouTube, etc.  \n",
    "- Helps understand **how big tech recommends content** using user behavior.  \n",
    "- Introduces **data cleaning, matrix factorization, and model evaluation** in a real dataset.  \n",
    "\n",
    "---\n",
    "\n"
   ]
  },
  {
   "cell_type": "markdown",
   "id": "f03d254d",
   "metadata": {},
   "source": [
    "### **Importing basic libraries**"
   ]
  },
  {
   "cell_type": "code",
   "execution_count": 2,
   "id": "a34c1a51",
   "metadata": {},
   "outputs": [],
   "source": [
    "import pandas as pd\n",
    "import matplotlib.pyplot as plt\n",
    "import seaborn as sns"
   ]
  },
  {
   "cell_type": "markdown",
   "id": "e6bcaaae",
   "metadata": {},
   "source": [
    "---------------"
   ]
  },
  {
   "cell_type": "markdown",
   "id": "baea2fa9",
   "metadata": {},
   "source": [
    "## **Data Cleaning & Transformation**"
   ]
  },
  {
   "cell_type": "markdown",
   "id": "ca62ea91",
   "metadata": {},
   "source": [
    "### **Fixing the parsing problem of dataset** \n",
    "The dataset lists movie IDs as a header row, followed by ratings for that movie:\n",
    "\n",
    "| Cust\\_Id | Rating |\n",
    "| -------- | ------ |\n",
    "| 1:       |        |\n",
    "| 1488844  | 3      |\n",
    "| 822109   | 5      |\n",
    "\n",
    "#### **After fixing:**\n",
    "\n",
    "|Movie_Id| Cust\\_Id | Rating |\n",
    "---------| -------- | ------ |\n",
    "1        | 1488844  | 3      |\n",
    "1        | 822109   | 5      |\n",
    "\n",
    "- Movie_Id column explicitly matches each rating.\n",
    "- Cust_Id column only contains actual customer IDs.\n",
    "- All columns have proper datatype\n"
   ]
  },
  {
   "cell_type": "markdown",
   "id": "e0e102d9",
   "metadata": {},
   "source": [
    "- *The movie rating files contain over 100 million ratings from 480 thousand randomly-chosen, anonymous Netflix customers over 17 thousand movie titles. The combined_data_1.txt.zip is one of the fragments of the entire 100M ratings dataset. We'll only work on one fragment to avoid long training time and reduce overhead during cleaning. This one fragment has 4499 movies and ratings from about 470758 users. One user can have rated more than one movie. The entire dataset is contained in txt files and this one of the txt files.*\n",
    "\n",
    "- *The movie_titles.csv file contains titles of all the movies wihtout duplicates*"
   ]
  },
  {
   "cell_type": "markdown",
   "id": "fa167893",
   "metadata": {},
   "source": [
    "----------"
   ]
  },
  {
   "cell_type": "code",
   "execution_count": 36,
   "id": "0787966c",
   "metadata": {},
   "outputs": [
    {
     "data": {
      "text/html": [
       "<div>\n",
       "<style scoped>\n",
       "    .dataframe tbody tr th:only-of-type {\n",
       "        vertical-align: middle;\n",
       "    }\n",
       "\n",
       "    .dataframe tbody tr th {\n",
       "        vertical-align: top;\n",
       "    }\n",
       "\n",
       "    .dataframe thead th {\n",
       "        text-align: right;\n",
       "    }\n",
       "</style>\n",
       "<table border=\"1\" class=\"dataframe\">\n",
       "  <thead>\n",
       "    <tr style=\"text-align: right;\">\n",
       "      <th></th>\n",
       "      <th>Cust_Id</th>\n",
       "      <th>Rating</th>\n",
       "    </tr>\n",
       "  </thead>\n",
       "  <tbody>\n",
       "    <tr>\n",
       "      <th>0</th>\n",
       "      <td>1:</td>\n",
       "      <td>NaN</td>\n",
       "    </tr>\n",
       "    <tr>\n",
       "      <th>1</th>\n",
       "      <td>1488844</td>\n",
       "      <td>3.0</td>\n",
       "    </tr>\n",
       "    <tr>\n",
       "      <th>2</th>\n",
       "      <td>822109</td>\n",
       "      <td>5.0</td>\n",
       "    </tr>\n",
       "    <tr>\n",
       "      <th>3</th>\n",
       "      <td>885013</td>\n",
       "      <td>4.0</td>\n",
       "    </tr>\n",
       "    <tr>\n",
       "      <th>4</th>\n",
       "      <td>30878</td>\n",
       "      <td>4.0</td>\n",
       "    </tr>\n",
       "    <tr>\n",
       "      <th>...</th>\n",
       "      <td>...</td>\n",
       "      <td>...</td>\n",
       "    </tr>\n",
       "    <tr>\n",
       "      <th>24058258</th>\n",
       "      <td>2591364</td>\n",
       "      <td>2.0</td>\n",
       "    </tr>\n",
       "    <tr>\n",
       "      <th>24058259</th>\n",
       "      <td>1791000</td>\n",
       "      <td>2.0</td>\n",
       "    </tr>\n",
       "    <tr>\n",
       "      <th>24058260</th>\n",
       "      <td>512536</td>\n",
       "      <td>5.0</td>\n",
       "    </tr>\n",
       "    <tr>\n",
       "      <th>24058261</th>\n",
       "      <td>988963</td>\n",
       "      <td>3.0</td>\n",
       "    </tr>\n",
       "    <tr>\n",
       "      <th>24058262</th>\n",
       "      <td>1704416</td>\n",
       "      <td>3.0</td>\n",
       "    </tr>\n",
       "  </tbody>\n",
       "</table>\n",
       "<p>24058263 rows × 2 columns</p>\n",
       "</div>"
      ],
      "text/plain": [
       "          Cust_Id  Rating\n",
       "0              1:     NaN\n",
       "1         1488844     3.0\n",
       "2          822109     5.0\n",
       "3          885013     4.0\n",
       "4           30878     4.0\n",
       "...           ...     ...\n",
       "24058258  2591364     2.0\n",
       "24058259  1791000     2.0\n",
       "24058260   512536     5.0\n",
       "24058261   988963     3.0\n",
       "24058262  1704416     3.0\n",
       "\n",
       "[24058263 rows x 2 columns]"
      ]
     },
     "execution_count": 36,
     "metadata": {},
     "output_type": "execute_result"
    }
   ],
   "source": [
    "df = pd.read_csv('combined_data_1.txt.zip', header=None, names = ['Cust_Id', 'Rating'], usecols = [0,1]) \n",
    "df"
   ]
  },
  {
   "cell_type": "code",
   "execution_count": 37,
   "id": "b99bebaa",
   "metadata": {},
   "outputs": [],
   "source": [
    "df['Movie_Id'] =df['Cust_Id'].where(df['Cust_Id'].str.endswith(':'), pd.NA) #fetches the values with indices which fulfil the condtion & puts NA if it does not "
   ]
  },
  {
   "cell_type": "code",
   "execution_count": null,
   "id": "bf7f23f9",
   "metadata": {},
   "outputs": [],
   "source": [
    "df['Movie_Id']= df['Movie_Id'].ffill() # forward fills the empty values movie id  \n",
    "df "
   ]
  },
  {
   "cell_type": "code",
   "execution_count": null,
   "id": "77eb177c",
   "metadata": {},
   "outputs": [],
   "source": [
    "df.dropna(inplace=True) # drops all rows with null values  "
   ]
  },
  {
   "cell_type": "code",
   "execution_count": null,
   "id": "f85447f1",
   "metadata": {},
   "outputs": [],
   "source": [
    "df['Movie_Id']= df['Movie_Id'].str.replace(':','') #1: -> 1"
   ]
  },
  {
   "cell_type": "code",
   "execution_count": null,
   "id": "6da8ce72",
   "metadata": {},
   "outputs": [],
   "source": [
    "df = df.astype('int') #converting to int"
   ]
  },
  {
   "cell_type": "code",
   "execution_count": 9,
   "id": "94ac69b8",
   "metadata": {},
   "outputs": [
    {
     "data": {
      "text/html": [
       "<div>\n",
       "<style scoped>\n",
       "    .dataframe tbody tr th:only-of-type {\n",
       "        vertical-align: middle;\n",
       "    }\n",
       "\n",
       "    .dataframe tbody tr th {\n",
       "        vertical-align: top;\n",
       "    }\n",
       "\n",
       "    .dataframe thead th {\n",
       "        text-align: right;\n",
       "    }\n",
       "</style>\n",
       "<table border=\"1\" class=\"dataframe\">\n",
       "  <thead>\n",
       "    <tr style=\"text-align: right;\">\n",
       "      <th></th>\n",
       "      <th>Cust_Id</th>\n",
       "      <th>Rating</th>\n",
       "      <th>Movie_Id</th>\n",
       "    </tr>\n",
       "  </thead>\n",
       "  <tbody>\n",
       "    <tr>\n",
       "      <th>1</th>\n",
       "      <td>1488844</td>\n",
       "      <td>3</td>\n",
       "      <td>1</td>\n",
       "    </tr>\n",
       "    <tr>\n",
       "      <th>2</th>\n",
       "      <td>822109</td>\n",
       "      <td>5</td>\n",
       "      <td>1</td>\n",
       "    </tr>\n",
       "    <tr>\n",
       "      <th>3</th>\n",
       "      <td>885013</td>\n",
       "      <td>4</td>\n",
       "      <td>1</td>\n",
       "    </tr>\n",
       "    <tr>\n",
       "      <th>4</th>\n",
       "      <td>30878</td>\n",
       "      <td>4</td>\n",
       "      <td>1</td>\n",
       "    </tr>\n",
       "    <tr>\n",
       "      <th>5</th>\n",
       "      <td>823519</td>\n",
       "      <td>3</td>\n",
       "      <td>1</td>\n",
       "    </tr>\n",
       "    <tr>\n",
       "      <th>...</th>\n",
       "      <td>...</td>\n",
       "      <td>...</td>\n",
       "      <td>...</td>\n",
       "    </tr>\n",
       "    <tr>\n",
       "      <th>24058258</th>\n",
       "      <td>2591364</td>\n",
       "      <td>2</td>\n",
       "      <td>4499</td>\n",
       "    </tr>\n",
       "    <tr>\n",
       "      <th>24058259</th>\n",
       "      <td>1791000</td>\n",
       "      <td>2</td>\n",
       "      <td>4499</td>\n",
       "    </tr>\n",
       "    <tr>\n",
       "      <th>24058260</th>\n",
       "      <td>512536</td>\n",
       "      <td>5</td>\n",
       "      <td>4499</td>\n",
       "    </tr>\n",
       "    <tr>\n",
       "      <th>24058261</th>\n",
       "      <td>988963</td>\n",
       "      <td>3</td>\n",
       "      <td>4499</td>\n",
       "    </tr>\n",
       "    <tr>\n",
       "      <th>24058262</th>\n",
       "      <td>1704416</td>\n",
       "      <td>3</td>\n",
       "      <td>4499</td>\n",
       "    </tr>\n",
       "  </tbody>\n",
       "</table>\n",
       "<p>24053764 rows × 3 columns</p>\n",
       "</div>"
      ],
      "text/plain": [
       "          Cust_Id  Rating  Movie_Id\n",
       "1         1488844       3         1\n",
       "2          822109       5         1\n",
       "3          885013       4         1\n",
       "4           30878       4         1\n",
       "5          823519       3         1\n",
       "...           ...     ...       ...\n",
       "24058258  2591364       2      4499\n",
       "24058259  1791000       2      4499\n",
       "24058260   512536       5      4499\n",
       "24058261   988963       3      4499\n",
       "24058262  1704416       3      4499\n",
       "\n",
       "[24053764 rows x 3 columns]"
      ]
     },
     "execution_count": 9,
     "metadata": {},
     "output_type": "execute_result"
    }
   ],
   "source": [
    "df"
   ]
  },
  {
   "cell_type": "markdown",
   "id": "797505d8",
   "metadata": {},
   "source": [
    "- **now all the columns are ready for analysis**"
   ]
  },
  {
   "cell_type": "markdown",
   "id": "36a8640b",
   "metadata": {},
   "source": [
    "### **Sanity Check**"
   ]
  },
  {
   "cell_type": "code",
   "execution_count": 10,
   "id": "dd415348",
   "metadata": {},
   "outputs": [
    {
     "data": {
      "text/plain": [
       "Cust_Id     0\n",
       "Rating      0\n",
       "Movie_Id    0\n",
       "dtype: int64"
      ]
     },
     "execution_count": 10,
     "metadata": {},
     "output_type": "execute_result"
    }
   ],
   "source": [
    "df.isnull().sum()\n"
   ]
  },
  {
   "cell_type": "code",
   "execution_count": 11,
   "id": "29235fbf",
   "metadata": {},
   "outputs": [
    {
     "data": {
      "text/plain": [
       "0"
      ]
     },
     "execution_count": 11,
     "metadata": {},
     "output_type": "execute_result"
    }
   ],
   "source": [
    "df.duplicated().sum()"
   ]
  },
  {
   "cell_type": "code",
   "execution_count": 38,
   "id": "f680fb45",
   "metadata": {},
   "outputs": [
    {
     "data": {
      "image/png": "[encoded data removed]",
      "text/plain": [
       "<Figure size 640x480 with 1 Axes>"
      ]
     },
     "metadata": {},
     "output_type": "display_data"
    }
   ],
   "source": [
    "df['Rating'].value_counts().plot(kind='barh') #smol visualization to see the ratings count\n",
    "plt.show()"
   ]
  },
  {
   "cell_type": "code",
   "execution_count": null,
   "id": "b2648828",
   "metadata": {},
   "outputs": [
    {
     "data": {
      "text/plain": [
       "470758"
      ]
     },
     "execution_count": 13,
     "metadata": {},
     "output_type": "execute_result"
    }
   ],
   "source": [
    "df['Cust_Id'].nunique() #total customers who rated without duplicates"
   ]
  },
  {
   "cell_type": "code",
   "execution_count": null,
   "id": "7951c137",
   "metadata": {},
   "outputs": [
    {
     "data": {
      "text/plain": [
       "4499"
      ]
     },
     "execution_count": 14,
     "metadata": {},
     "output_type": "execute_result"
    }
   ],
   "source": [
    "df['Movie_Id'].nunique() #total movies"
   ]
  },
  {
   "cell_type": "markdown",
   "id": "1dd4b4f4",
   "metadata": {},
   "source": [
    "---------"
   ]
  },
  {
   "cell_type": "markdown",
   "id": "a4e8aaab",
   "metadata": {},
   "source": [
    "## **Training SVD model**"
   ]
  },
  {
   "cell_type": "markdown",
   "id": "e5d5a5e0",
   "metadata": {},
   "source": [
    "- *If you dont have Anaconda configured, then install it to use the conda command below. I dont know how to fix the requirement for the installation when I did with pip. So this is only way to do it wihtout hassle.*"
   ]
  },
  {
   "cell_type": "code",
   "execution_count": 15,
   "id": "1a547d92",
   "metadata": {},
   "outputs": [],
   "source": [
    "# conda install -c conda-forge scikit-surprise --yes"
   ]
  },
  {
   "cell_type": "code",
   "execution_count": null,
   "id": "d7f0d06a",
   "metadata": {},
   "outputs": [],
   "source": [
    "from surprise import SVD, Dataset, Reader\n",
    "from surprise.model_selection import train_test_split\n",
    "from surprise import accuracy"
   ]
  },
  {
   "cell_type": "markdown",
   "id": "31dcdb73",
   "metadata": {},
   "source": [
    "### **Smol Note on SVD**\n",
    "\n",
    "- SVD (Singular Value Decomposition) breaks a large matrix into smaller factors.\n",
    "- In recommender systems:\n",
    "    - User–Movie rating matrix → decomposed into latent features (hidden patterns).\n",
    "    - Helps predict missing ratings by capturing user taste + movie characteristics."
   ]
  },
  {
   "cell_type": "code",
   "execution_count": null,
   "id": "9e206a41",
   "metadata": {},
   "outputs": [],
   "source": [
    "reader = Reader(rating_scale=(1,5)) #because our rating ranges from 1 to 5\n",
    "data = Dataset.load_from_df(df[['Cust_Id', 'Movie_Id', 'Rating']], reader)"
   ]
  },
  {
   "cell_type": "code",
   "execution_count": null,
   "id": "5b4de015",
   "metadata": {},
   "outputs": [],
   "source": [
    "train, test = train_test_split(data, test_size=0.2) #80% training= 19M rows; 20% testing = 5M rows"
   ]
  },
  {
   "cell_type": "code",
   "execution_count": null,
   "id": "54f4d2c2",
   "metadata": {},
   "outputs": [
    {
     "data": {
      "text/plain": [
       "<surprise.prediction_algorithms.matrix_factorization.SVD at 0x151c7450110>"
      ]
     },
     "execution_count": 19,
     "metadata": {},
     "output_type": "execute_result"
    }
   ],
   "source": [
    "model = SVD()\n",
    "model.fit(train) #will take forveer to train so this is why we didnt took the whole 100M dataset"
   ]
  },
  {
   "cell_type": "markdown",
   "id": "bf0d5b41",
   "metadata": {},
   "source": [
    "---------------"
   ]
  },
  {
   "cell_type": "markdown",
   "id": "83077e97",
   "metadata": {},
   "source": [
    "## **Evaluation**"
   ]
  },
  {
   "cell_type": "code",
   "execution_count": null,
   "id": "b4d3e983",
   "metadata": {},
   "outputs": [],
   "source": [
    "pred = model.test(test) #predict the unseen test data"
   ]
  },
  {
   "cell_type": "code",
   "execution_count": null,
   "id": "4e8021f7",
   "metadata": {},
   "outputs": [
    {
     "name": "stdout",
     "output_type": "stream",
     "text": [
      "RMSE: 0.9005\n"
     ]
    },
    {
     "data": {
      "text/plain": [
       "0.9005390447942934"
      ]
     },
     "execution_count": 21,
     "metadata": {},
     "output_type": "execute_result"
    }
   ],
   "source": [
    "accuracy.rmse(pred) "
   ]
  },
  {
   "cell_type": "markdown",
   "id": "417a5838",
   "metadata": {},
   "source": [
    "### **Acceptable RMSE Range**\n",
    "\n",
    "- RMSE (Root Mean Squared Error) measures how far predicted ratings are from actual ratings.\n",
    "- Netflix Prize baseline was ~0.85.\n",
    "- We got 0.90 on one of the fragment of the entire dataset."
   ]
  },
  {
   "cell_type": "code",
   "execution_count": 22,
   "id": "09537ab5",
   "metadata": {},
   "outputs": [
    {
     "name": "stdout",
     "output_type": "stream",
     "text": [
      "MAE:  0.6237769729871945\n"
     ]
    },
    {
     "data": {
      "text/html": [
       "<div>\n",
       "<style scoped>\n",
       "    .dataframe tbody tr th:only-of-type {\n",
       "        vertical-align: middle;\n",
       "    }\n",
       "\n",
       "    .dataframe tbody tr th {\n",
       "        vertical-align: top;\n",
       "    }\n",
       "\n",
       "    .dataframe thead th {\n",
       "        text-align: right;\n",
       "    }\n",
       "</style>\n",
       "<table border=\"1\" class=\"dataframe\">\n",
       "  <thead>\n",
       "    <tr style=\"text-align: right;\">\n",
       "      <th></th>\n",
       "      <th>Actual</th>\n",
       "      <th>Predicted</th>\n",
       "      <th>diff</th>\n",
       "    </tr>\n",
       "  </thead>\n",
       "  <tbody>\n",
       "    <tr>\n",
       "      <th>0</th>\n",
       "      <td>3.0</td>\n",
       "      <td>3.408869</td>\n",
       "      <td>0.408869</td>\n",
       "    </tr>\n",
       "    <tr>\n",
       "      <th>1</th>\n",
       "      <td>5.0</td>\n",
       "      <td>4.300279</td>\n",
       "      <td>0.699721</td>\n",
       "    </tr>\n",
       "    <tr>\n",
       "      <th>2</th>\n",
       "      <td>4.0</td>\n",
       "      <td>4.148784</td>\n",
       "      <td>0.148784</td>\n",
       "    </tr>\n",
       "    <tr>\n",
       "      <th>3</th>\n",
       "      <td>2.0</td>\n",
       "      <td>3.528943</td>\n",
       "      <td>1.528943</td>\n",
       "    </tr>\n",
       "    <tr>\n",
       "      <th>4</th>\n",
       "      <td>3.0</td>\n",
       "      <td>3.537219</td>\n",
       "      <td>0.537219</td>\n",
       "    </tr>\n",
       "    <tr>\n",
       "      <th>5</th>\n",
       "      <td>4.0</td>\n",
       "      <td>3.595386</td>\n",
       "      <td>0.404614</td>\n",
       "    </tr>\n",
       "    <tr>\n",
       "      <th>6</th>\n",
       "      <td>5.0</td>\n",
       "      <td>3.672552</td>\n",
       "      <td>1.327448</td>\n",
       "    </tr>\n",
       "    <tr>\n",
       "      <th>7</th>\n",
       "      <td>4.0</td>\n",
       "      <td>3.508889</td>\n",
       "      <td>0.491111</td>\n",
       "    </tr>\n",
       "    <tr>\n",
       "      <th>8</th>\n",
       "      <td>5.0</td>\n",
       "      <td>4.491102</td>\n",
       "      <td>0.508898</td>\n",
       "    </tr>\n",
       "    <tr>\n",
       "      <th>9</th>\n",
       "      <td>4.0</td>\n",
       "      <td>3.817838</td>\n",
       "      <td>0.182162</td>\n",
       "    </tr>\n",
       "  </tbody>\n",
       "</table>\n",
       "</div>"
      ],
      "text/plain": [
       "   Actual  Predicted      diff\n",
       "0     3.0   3.408869  0.408869\n",
       "1     5.0   4.300279  0.699721\n",
       "2     4.0   4.148784  0.148784\n",
       "3     2.0   3.528943  1.528943\n",
       "4     3.0   3.537219  0.537219\n",
       "5     4.0   3.595386  0.404614\n",
       "6     5.0   3.672552  1.327448\n",
       "7     4.0   3.508889  0.491111\n",
       "8     5.0   4.491102  0.508898\n",
       "9     4.0   3.817838  0.182162"
      ]
     },
     "execution_count": 22,
     "metadata": {},
     "output_type": "execute_result"
    }
   ],
   "source": [
    "act_pred = [i[2:4] for i in pred]\n",
    "pred_table = pd.DataFrame(act_pred, columns=['Actual', 'Predicted']).head(10)\n",
    "pred_table['diff'] = abs(pred_table['Actual'] - pred_table['Predicted'])\n",
    "print(\"MAE: \", pred_table['diff'].mean())\n",
    "pred_table"
   ]
  },
  {
   "cell_type": "markdown",
   "id": "6e0e62ac",
   "metadata": {},
   "source": [
    "----------"
   ]
  },
  {
   "cell_type": "markdown",
   "id": "84f184f1",
   "metadata": {},
   "source": [
    "## **Applying the Recommendation Engine**"
   ]
  },
  {
   "cell_type": "code",
   "execution_count": 23,
   "id": "37e4819a",
   "metadata": {},
   "outputs": [],
   "source": [
    "titles=[]\n",
    "with open('movie_titles.csv',encoding=\"cp1252\") as f:\n",
    "    for line in f:\n",
    "        title = line.strip().split(',',2)\n",
    "        titles.append(title)"
   ]
  },
  {
   "cell_type": "code",
   "execution_count": 24,
   "id": "009c83b6",
   "metadata": {},
   "outputs": [
    {
     "data": {
      "text/html": [
       "<div>\n",
       "<style scoped>\n",
       "    .dataframe tbody tr th:only-of-type {\n",
       "        vertical-align: middle;\n",
       "    }\n",
       "\n",
       "    .dataframe tbody tr th {\n",
       "        vertical-align: top;\n",
       "    }\n",
       "\n",
       "    .dataframe thead th {\n",
       "        text-align: right;\n",
       "    }\n",
       "</style>\n",
       "<table border=\"1\" class=\"dataframe\">\n",
       "  <thead>\n",
       "    <tr style=\"text-align: right;\">\n",
       "      <th></th>\n",
       "      <th>Movie_Id</th>\n",
       "      <th>Year</th>\n",
       "      <th>Title</th>\n",
       "    </tr>\n",
       "  </thead>\n",
       "  <tbody>\n",
       "    <tr>\n",
       "      <th>0</th>\n",
       "      <td>1</td>\n",
       "      <td>2003</td>\n",
       "      <td>Dinosaur Planet</td>\n",
       "    </tr>\n",
       "    <tr>\n",
       "      <th>1</th>\n",
       "      <td>2</td>\n",
       "      <td>2004</td>\n",
       "      <td>Isle of Man TT 2004 Review</td>\n",
       "    </tr>\n",
       "    <tr>\n",
       "      <th>2</th>\n",
       "      <td>3</td>\n",
       "      <td>1997</td>\n",
       "      <td>Character</td>\n",
       "    </tr>\n",
       "    <tr>\n",
       "      <th>3</th>\n",
       "      <td>4</td>\n",
       "      <td>1994</td>\n",
       "      <td>Paula Abdul's Get Up &amp; Dance</td>\n",
       "    </tr>\n",
       "    <tr>\n",
       "      <th>4</th>\n",
       "      <td>5</td>\n",
       "      <td>2004</td>\n",
       "      <td>The Rise and Fall of ECW</td>\n",
       "    </tr>\n",
       "    <tr>\n",
       "      <th>...</th>\n",
       "      <td>...</td>\n",
       "      <td>...</td>\n",
       "      <td>...</td>\n",
       "    </tr>\n",
       "    <tr>\n",
       "      <th>17765</th>\n",
       "      <td>17766</td>\n",
       "      <td>2002</td>\n",
       "      <td>Where the Wild Things Are and Other Maurice Se...</td>\n",
       "    </tr>\n",
       "    <tr>\n",
       "      <th>17766</th>\n",
       "      <td>17767</td>\n",
       "      <td>2004</td>\n",
       "      <td>Fidel Castro: American Experience</td>\n",
       "    </tr>\n",
       "    <tr>\n",
       "      <th>17767</th>\n",
       "      <td>17768</td>\n",
       "      <td>2000</td>\n",
       "      <td>Epoch</td>\n",
       "    </tr>\n",
       "    <tr>\n",
       "      <th>17768</th>\n",
       "      <td>17769</td>\n",
       "      <td>2003</td>\n",
       "      <td>The Company</td>\n",
       "    </tr>\n",
       "    <tr>\n",
       "      <th>17769</th>\n",
       "      <td>17770</td>\n",
       "      <td>2003</td>\n",
       "      <td>Alien Hunter</td>\n",
       "    </tr>\n",
       "  </tbody>\n",
       "</table>\n",
       "<p>17770 rows × 3 columns</p>\n",
       "</div>"
      ],
      "text/plain": [
       "       Movie_Id  Year                                              Title\n",
       "0             1  2003                                    Dinosaur Planet\n",
       "1             2  2004                         Isle of Man TT 2004 Review\n",
       "2             3  1997                                          Character\n",
       "3             4  1994                       Paula Abdul's Get Up & Dance\n",
       "4             5  2004                           The Rise and Fall of ECW\n",
       "...         ...   ...                                                ...\n",
       "17765     17766  2002  Where the Wild Things Are and Other Maurice Se...\n",
       "17766     17767  2004                  Fidel Castro: American Experience\n",
       "17767     17768  2000                                              Epoch\n",
       "17768     17769  2003                                        The Company\n",
       "17769     17770  2003                                       Alien Hunter\n",
       "\n",
       "[17770 rows x 3 columns]"
      ]
     },
     "execution_count": 24,
     "metadata": {},
     "output_type": "execute_result"
    }
   ],
   "source": [
    "df_titles = pd.DataFrame(titles, columns=['Movie_Id', 'Year', 'Title'])\n",
    "df_titles['Movie_Id'] =df_titles['Movie_Id'].astype('int')\n",
    "df_titles"
   ]
  },
  {
   "cell_type": "code",
   "execution_count": 27,
   "id": "10b34f0d",
   "metadata": {},
   "outputs": [],
   "source": [
    "user = 1432211\n",
    "user_movies = df[df['Cust_Id']==user]['Movie_Id'].unique()"
   ]
  },
  {
   "cell_type": "code",
   "execution_count": 28,
   "id": "9aaf141e",
   "metadata": {},
   "outputs": [
    {
     "data": {
      "text/html": [
       "<div>\n",
       "<style scoped>\n",
       "    .dataframe tbody tr th:only-of-type {\n",
       "        vertical-align: middle;\n",
       "    }\n",
       "\n",
       "    .dataframe tbody tr th {\n",
       "        vertical-align: top;\n",
       "    }\n",
       "\n",
       "    .dataframe thead th {\n",
       "        text-align: right;\n",
       "    }\n",
       "</style>\n",
       "<table border=\"1\" class=\"dataframe\">\n",
       "  <thead>\n",
       "    <tr style=\"text-align: right;\">\n",
       "      <th></th>\n",
       "      <th>Movie_Id</th>\n",
       "      <th>Year</th>\n",
       "      <th>Title</th>\n",
       "    </tr>\n",
       "  </thead>\n",
       "  <tbody>\n",
       "    <tr>\n",
       "      <th>0</th>\n",
       "      <td>1</td>\n",
       "      <td>2003</td>\n",
       "      <td>Dinosaur Planet</td>\n",
       "    </tr>\n",
       "    <tr>\n",
       "      <th>1</th>\n",
       "      <td>2</td>\n",
       "      <td>2004</td>\n",
       "      <td>Isle of Man TT 2004 Review</td>\n",
       "    </tr>\n",
       "    <tr>\n",
       "      <th>3</th>\n",
       "      <td>4</td>\n",
       "      <td>1994</td>\n",
       "      <td>Paula Abdul's Get Up &amp; Dance</td>\n",
       "    </tr>\n",
       "    <tr>\n",
       "      <th>4</th>\n",
       "      <td>5</td>\n",
       "      <td>2004</td>\n",
       "      <td>The Rise and Fall of ECW</td>\n",
       "    </tr>\n",
       "    <tr>\n",
       "      <th>5</th>\n",
       "      <td>6</td>\n",
       "      <td>1997</td>\n",
       "      <td>Sick</td>\n",
       "    </tr>\n",
       "    <tr>\n",
       "      <th>...</th>\n",
       "      <td>...</td>\n",
       "      <td>...</td>\n",
       "      <td>...</td>\n",
       "    </tr>\n",
       "    <tr>\n",
       "      <th>17765</th>\n",
       "      <td>17766</td>\n",
       "      <td>2002</td>\n",
       "      <td>Where the Wild Things Are and Other Maurice Se...</td>\n",
       "    </tr>\n",
       "    <tr>\n",
       "      <th>17766</th>\n",
       "      <td>17767</td>\n",
       "      <td>2004</td>\n",
       "      <td>Fidel Castro: American Experience</td>\n",
       "    </tr>\n",
       "    <tr>\n",
       "      <th>17767</th>\n",
       "      <td>17768</td>\n",
       "      <td>2000</td>\n",
       "      <td>Epoch</td>\n",
       "    </tr>\n",
       "    <tr>\n",
       "      <th>17768</th>\n",
       "      <td>17769</td>\n",
       "      <td>2003</td>\n",
       "      <td>The Company</td>\n",
       "    </tr>\n",
       "    <tr>\n",
       "      <th>17769</th>\n",
       "      <td>17770</td>\n",
       "      <td>2003</td>\n",
       "      <td>Alien Hunter</td>\n",
       "    </tr>\n",
       "  </tbody>\n",
       "</table>\n",
       "<p>17572 rows × 3 columns</p>\n",
       "</div>"
      ],
      "text/plain": [
       "       Movie_Id  Year                                              Title\n",
       "0             1  2003                                    Dinosaur Planet\n",
       "1             2  2004                         Isle of Man TT 2004 Review\n",
       "3             4  1994                       Paula Abdul's Get Up & Dance\n",
       "4             5  2004                           The Rise and Fall of ECW\n",
       "5             6  1997                                               Sick\n",
       "...         ...   ...                                                ...\n",
       "17765     17766  2002  Where the Wild Things Are and Other Maurice Se...\n",
       "17766     17767  2004                  Fidel Castro: American Experience\n",
       "17767     17768  2000                                              Epoch\n",
       "17768     17769  2003                                        The Company\n",
       "17769     17770  2003                                       Alien Hunter\n",
       "\n",
       "[17572 rows x 3 columns]"
      ]
     },
     "execution_count": 28,
     "metadata": {},
     "output_type": "execute_result"
    }
   ],
   "source": [
    "unrated = df_titles[~df_titles['Movie_Id'].isin(user_movies)]\n",
    "unrated"
   ]
  },
  {
   "cell_type": "code",
   "execution_count": 29,
   "id": "919acb14",
   "metadata": {},
   "outputs": [],
   "source": [
    "pred_unrated =[]\n",
    "for i in unrated['Movie_Id']:\n",
    "    prediction = model.predict(user,i)\n",
    "    pred_unrated.append((i, prediction.est))\n"
   ]
  },
  {
   "cell_type": "code",
   "execution_count": 30,
   "id": "72750255",
   "metadata": {},
   "outputs": [],
   "source": [
    "recommendations = pd.DataFrame(pred_unrated, columns=['Movie_Id', 'Rating'])\n",
    "recommendations = recommendations.merge(df_titles, on='Movie_Id')"
   ]
  },
  {
   "cell_type": "code",
   "execution_count": 31,
   "id": "651e1117",
   "metadata": {},
   "outputs": [
    {
     "data": {
      "text/html": [
       "<div>\n",
       "<style scoped>\n",
       "    .dataframe tbody tr th:only-of-type {\n",
       "        vertical-align: middle;\n",
       "    }\n",
       "\n",
       "    .dataframe tbody tr th {\n",
       "        vertical-align: top;\n",
       "    }\n",
       "\n",
       "    .dataframe thead th {\n",
       "        text-align: right;\n",
       "    }\n",
       "</style>\n",
       "<table border=\"1\" class=\"dataframe\">\n",
       "  <thead>\n",
       "    <tr style=\"text-align: right;\">\n",
       "      <th></th>\n",
       "      <th>Movie_Id</th>\n",
       "      <th>Rating</th>\n",
       "      <th>Year</th>\n",
       "      <th>Title</th>\n",
       "    </tr>\n",
       "  </thead>\n",
       "  <tbody>\n",
       "    <tr>\n",
       "      <th>0</th>\n",
       "      <td>1</td>\n",
       "      <td>3.450976</td>\n",
       "      <td>2003</td>\n",
       "      <td>Dinosaur Planet</td>\n",
       "    </tr>\n",
       "    <tr>\n",
       "      <th>1</th>\n",
       "      <td>2</td>\n",
       "      <td>3.838431</td>\n",
       "      <td>2004</td>\n",
       "      <td>Isle of Man TT 2004 Review</td>\n",
       "    </tr>\n",
       "    <tr>\n",
       "      <th>2</th>\n",
       "      <td>4</td>\n",
       "      <td>2.264499</td>\n",
       "      <td>1994</td>\n",
       "      <td>Paula Abdul's Get Up &amp; Dance</td>\n",
       "    </tr>\n",
       "    <tr>\n",
       "      <th>3</th>\n",
       "      <td>5</td>\n",
       "      <td>3.976169</td>\n",
       "      <td>2004</td>\n",
       "      <td>The Rise and Fall of ECW</td>\n",
       "    </tr>\n",
       "    <tr>\n",
       "      <th>4</th>\n",
       "      <td>6</td>\n",
       "      <td>2.812661</td>\n",
       "      <td>1997</td>\n",
       "      <td>Sick</td>\n",
       "    </tr>\n",
       "    <tr>\n",
       "      <th>...</th>\n",
       "      <td>...</td>\n",
       "      <td>...</td>\n",
       "      <td>...</td>\n",
       "      <td>...</td>\n",
       "    </tr>\n",
       "    <tr>\n",
       "      <th>17567</th>\n",
       "      <td>17766</td>\n",
       "      <td>3.279890</td>\n",
       "      <td>2002</td>\n",
       "      <td>Where the Wild Things Are and Other Maurice Se...</td>\n",
       "    </tr>\n",
       "    <tr>\n",
       "      <th>17568</th>\n",
       "      <td>17767</td>\n",
       "      <td>3.279890</td>\n",
       "      <td>2004</td>\n",
       "      <td>Fidel Castro: American Experience</td>\n",
       "    </tr>\n",
       "    <tr>\n",
       "      <th>17569</th>\n",
       "      <td>17768</td>\n",
       "      <td>3.279890</td>\n",
       "      <td>2000</td>\n",
       "      <td>Epoch</td>\n",
       "    </tr>\n",
       "    <tr>\n",
       "      <th>17570</th>\n",
       "      <td>17769</td>\n",
       "      <td>3.279890</td>\n",
       "      <td>2003</td>\n",
       "      <td>The Company</td>\n",
       "    </tr>\n",
       "    <tr>\n",
       "      <th>17571</th>\n",
       "      <td>17770</td>\n",
       "      <td>3.279890</td>\n",
       "      <td>2003</td>\n",
       "      <td>Alien Hunter</td>\n",
       "    </tr>\n",
       "  </tbody>\n",
       "</table>\n",
       "<p>17572 rows × 4 columns</p>\n",
       "</div>"
      ],
      "text/plain": [
       "       Movie_Id    Rating  Year  \\\n",
       "0             1  3.450976  2003   \n",
       "1             2  3.838431  2004   \n",
       "2             4  2.264499  1994   \n",
       "3             5  3.976169  2004   \n",
       "4             6  2.812661  1997   \n",
       "...         ...       ...   ...   \n",
       "17567     17766  3.279890  2002   \n",
       "17568     17767  3.279890  2004   \n",
       "17569     17768  3.279890  2000   \n",
       "17570     17769  3.279890  2003   \n",
       "17571     17770  3.279890  2003   \n",
       "\n",
       "                                                   Title  \n",
       "0                                        Dinosaur Planet  \n",
       "1                             Isle of Man TT 2004 Review  \n",
       "2                           Paula Abdul's Get Up & Dance  \n",
       "3                               The Rise and Fall of ECW  \n",
       "4                                                   Sick  \n",
       "...                                                  ...  \n",
       "17567  Where the Wild Things Are and Other Maurice Se...  \n",
       "17568                  Fidel Castro: American Experience  \n",
       "17569                                              Epoch  \n",
       "17570                                        The Company  \n",
       "17571                                       Alien Hunter  \n",
       "\n",
       "[17572 rows x 4 columns]"
      ]
     },
     "execution_count": 31,
     "metadata": {},
     "output_type": "execute_result"
    }
   ],
   "source": [
    "recommendations"
   ]
  },
  {
   "cell_type": "code",
   "execution_count": 34,
   "id": "10310633",
   "metadata": {},
   "outputs": [
    {
     "data": {
      "text/html": [
       "<div>\n",
       "<style scoped>\n",
       "    .dataframe tbody tr th:only-of-type {\n",
       "        vertical-align: middle;\n",
       "    }\n",
       "\n",
       "    .dataframe tbody tr th {\n",
       "        vertical-align: top;\n",
       "    }\n",
       "\n",
       "    .dataframe thead th {\n",
       "        text-align: right;\n",
       "    }\n",
       "</style>\n",
       "<table border=\"1\" class=\"dataframe\">\n",
       "  <thead>\n",
       "    <tr style=\"text-align: right;\">\n",
       "      <th></th>\n",
       "      <th>Movie_Id</th>\n",
       "      <th>Rating</th>\n",
       "      <th>Year</th>\n",
       "      <th>Title</th>\n",
       "    </tr>\n",
       "  </thead>\n",
       "  <tbody>\n",
       "    <tr>\n",
       "      <th>3881</th>\n",
       "      <td>4054</td>\n",
       "      <td>4.629549</td>\n",
       "      <td>1990</td>\n",
       "      <td>House of Cards Trilogy I: House of Cards</td>\n",
       "    </tr>\n",
       "    <tr>\n",
       "      <th>2891</th>\n",
       "      <td>3023</td>\n",
       "      <td>4.598786</td>\n",
       "      <td>1973</td>\n",
       "      <td>Upstairs, Downstairs: Season 3</td>\n",
       "    </tr>\n",
       "    <tr>\n",
       "      <th>3446</th>\n",
       "      <td>3605</td>\n",
       "      <td>4.571853</td>\n",
       "      <td>1939</td>\n",
       "      <td>The Wizard of Oz: Collector's Edition</td>\n",
       "    </tr>\n",
       "    <tr>\n",
       "      <th>3501</th>\n",
       "      <td>3662</td>\n",
       "      <td>4.523594</td>\n",
       "      <td>1994</td>\n",
       "      <td>House of Cards Trilogy II: To Play the King</td>\n",
       "    </tr>\n",
       "    <tr>\n",
       "      <th>1846</th>\n",
       "      <td>1941</td>\n",
       "      <td>4.498804</td>\n",
       "      <td>1998</td>\n",
       "      <td>The Life of Birds</td>\n",
       "    </tr>\n",
       "    <tr>\n",
       "      <th>524</th>\n",
       "      <td>554</td>\n",
       "      <td>4.470132</td>\n",
       "      <td>1972</td>\n",
       "      <td>Solaris</td>\n",
       "    </tr>\n",
       "    <tr>\n",
       "      <th>3107</th>\n",
       "      <td>3247</td>\n",
       "      <td>4.460376</td>\n",
       "      <td>2005</td>\n",
       "      <td>The Looney Tunes Golden Collection: Vol. 3</td>\n",
       "    </tr>\n",
       "    <tr>\n",
       "      <th>3305</th>\n",
       "      <td>3456</td>\n",
       "      <td>4.376421</td>\n",
       "      <td>2004</td>\n",
       "      <td>Lost: Season 1</td>\n",
       "    </tr>\n",
       "    <tr>\n",
       "      <th>945</th>\n",
       "      <td>996</td>\n",
       "      <td>4.347907</td>\n",
       "      <td>1961</td>\n",
       "      <td>Yojimbo</td>\n",
       "    </tr>\n",
       "    <tr>\n",
       "      <th>965</th>\n",
       "      <td>1017</td>\n",
       "      <td>4.347490</td>\n",
       "      <td>1955</td>\n",
       "      <td>I Love Lucy: Season 5</td>\n",
       "    </tr>\n",
       "  </tbody>\n",
       "</table>\n",
       "</div>"
      ],
      "text/plain": [
       "      Movie_Id    Rating  Year                                        Title\n",
       "3881      4054  4.629549  1990     House of Cards Trilogy I: House of Cards\n",
       "2891      3023  4.598786  1973               Upstairs, Downstairs: Season 3\n",
       "3446      3605  4.571853  1939        The Wizard of Oz: Collector's Edition\n",
       "3501      3662  4.523594  1994  House of Cards Trilogy II: To Play the King\n",
       "1846      1941  4.498804  1998                            The Life of Birds\n",
       "524        554  4.470132  1972                                      Solaris\n",
       "3107      3247  4.460376  2005   The Looney Tunes Golden Collection: Vol. 3\n",
       "3305      3456  4.376421  2004                               Lost: Season 1\n",
       "945        996  4.347907  1961                                      Yojimbo\n",
       "965       1017  4.347490  1955                        I Love Lucy: Season 5"
      ]
     },
     "execution_count": 34,
     "metadata": {},
     "output_type": "execute_result"
    }
   ],
   "source": [
    "top_10 = recommendations.nlargest(10, columns='Rating')\n",
    "top_10"
   ]
  }
 ],
 "metadata": {
  "kernelspec": {
   "display_name": "base",
   "language": "python",
   "name": "python3"
  },
  "language_info": {
   "codemirror_mode": {
    "name": "ipython",
    "version": 3
   },
   "file_extension": ".py",
   "mimetype": "text/x-python",
   "name": "python",
   "nbconvert_exporter": "python",
   "pygments_lexer": "ipython3",
   "version": "3.12.3"
  }
 },
 "nbformat": 4,
 "nbformat_minor": 5
}
